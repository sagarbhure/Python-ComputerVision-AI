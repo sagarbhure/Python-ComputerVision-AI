{
  "nbformat": 4,
  "nbformat_minor": 0,
  "metadata": {
    "colab": {
      "name": "Day-2.ipynb",
      "provenance": [],
      "collapsed_sections": [],
      "include_colab_link": true
    },
    "kernelspec": {
      "name": "python3",
      "display_name": "Python 3"
    }
  },
  "cells": [
    {
      "cell_type": "markdown",
      "metadata": {
        "id": "view-in-github",
        "colab_type": "text"
      },
      "source": [
        "<a href=\"https://colab.research.google.com/github/sagarbhure/Python-ComputerVision-AI/blob/master/Day_2.ipynb\" target=\"_parent\"><img src=\"https://colab.research.google.com/assets/colab-badge.svg\" alt=\"Open In Colab\"/></a>"
      ]
    },
    {
      "cell_type": "markdown",
      "metadata": {
        "id": "xoVf-r7iYgI6",
        "colab_type": "text"
      },
      "source": [
        "**Recap of last class**\n",
        "\n",
        "1. Puzzle + Teachable Machine Model \n",
        "2. print() \n",
        "3. adding two numbers\n",
        "4. Adding two numbers using functions\n",
        "\n",
        "\n",
        "**Here is the recap question:**"
      ]
    },
    {
      "cell_type": "code",
      "metadata": {
        "id": "3kxvKkTJYfsg",
        "colab_type": "code",
        "colab": {}
      },
      "source": [
        "def black_box(a, b):\n",
        "    c =  a * b  + a\n",
        "    print(c)\n",
        "\n",
        "a = 10\n",
        "b = 20 \n",
        "c = a + b\n",
        "print(c)\n",
        "print(c - a + b)\n",
        "black_box(a , b)\n"
      ],
      "execution_count": 0,
      "outputs": []
    },
    {
      "cell_type": "markdown",
      "metadata": {
        "id": "yYEGxlDIUWNp",
        "colab_type": "text"
      },
      "source": [
        "**Python - Decision Making**\n",
        "\n",
        "\n",
        "**Types of operators**\n",
        "\n",
        "    1. Arthemetic Operators ( + , - , * , / )\n",
        "    2. Comparision Operators \n",
        "        2.1 == If the values of two operands are equal the condition is true.\n",
        "        2.2 != If the values of two operands are not equal the condition is true.\n",
        "        2.3 >= If the value of left operand is greater than or equal to the value of right operand, then condition becomes true.\n",
        "    3. Assignment Operators\n",
        "        3.1 = Assigns values from right side operands to left side operand (example: sum = 10 + 30)\n",
        "\n",
        "**Let's see the output**"
      ]
    },
    {
      "cell_type": "code",
      "metadata": {
        "id": "QeRbfWjzT7N7",
        "colab_type": "code",
        "outputId": "8b54db36-65d4-4abd-bd0a-3fc3ff1d6dc1",
        "colab": {
          "base_uri": "https://localhost:8080/",
          "height": 35
        }
      },
      "source": [
        "# Compare Two integer\n",
        "print( 10 == 20)"
      ],
      "execution_count": 0,
      "outputs": [
        {
          "output_type": "stream",
          "text": [
            "False\n"
          ],
          "name": "stdout"
        }
      ]
    },
    {
      "cell_type": "code",
      "metadata": {
        "id": "j-nJ4UzcbE5o",
        "colab_type": "code",
        "outputId": "4d08581c-3c49-4160-b480-c31ddd2a1119",
        "colab": {
          "base_uri": "https://localhost:8080/",
          "height": 35
        }
      },
      "source": [
        "# Compare Two String\n",
        "print(10 == 10  )"
      ],
      "execution_count": 0,
      "outputs": [
        {
          "output_type": "stream",
          "text": [
            "True\n"
          ],
          "name": "stdout"
        }
      ]
    },
    {
      "cell_type": "code",
      "metadata": {
        "id": "lrz_aZlIbLS6",
        "colab_type": "code",
        "outputId": "fe98d55b-889c-4ea3-adb5-aab7fbdbd07f",
        "colab": {
          "base_uri": "https://localhost:8080/",
          "height": 87
        }
      },
      "source": [
        "# Predict the output\n",
        "print( \"sagar\" == \"bhure\") \n",
        "print(10 >= 20)\n",
        "print(10 == \"sagar\")\n",
        "print(1 == \"1\")"
      ],
      "execution_count": 0,
      "outputs": [
        {
          "output_type": "stream",
          "text": [
            "False\n",
            "False\n",
            "False\n",
            "False\n"
          ],
          "name": "stdout"
        }
      ]
    },
    {
      "cell_type": "markdown",
      "metadata": {
        "id": "6TxjuCdJbgay",
        "colab_type": "text"
      },
      "source": [
        "**Following is the general form of a typical decision making structure found in most of the programming languages**\n",
        "\n",
        "![image.png](https://www.tutorialspoint.com/python/images/decision_making.jpg)\n",
        "\n",
        "\n",
        "\n",
        "```\n",
        "if condition:           \n",
        "   # Statements to execute if\n",
        "   # condition is true\n",
        "```\n",
        "\n"
      ]
    },
    {
      "cell_type": "code",
      "metadata": {
        "id": "1gVeJ9B2bRLx",
        "colab_type": "code",
        "outputId": "40481a6c-873e-4e13-a11e-e44519a08494",
        "colab": {
          "base_uri": "https://localhost:8080/",
          "height": 70
        }
      },
      "source": [
        "count = 5\n",
        "if count < 20:\n",
        "  print(count)\n",
        "  count = count + 1\n",
        "  print(count)\n",
        "  print(\"Invitation sent!!!!\")\n",
        "print(\"\")  "
      ],
      "execution_count": 0,
      "outputs": [
        {
          "output_type": "stream",
          "text": [
            "5\n",
            "6\n",
            "Invitation sent!!!!\n"
          ],
          "name": "stdout"
        }
      ]
    },
    {
      "cell_type": "markdown",
      "metadata": {
        "id": "CVwhz0O_cao2",
        "colab_type": "text"
      },
      "source": [
        "**If-Else Statement**\n",
        "\n",
        "```\n",
        "if (condition):\n",
        "    # Executes this block if\n",
        "    # condition is true\n",
        "else:\n",
        "    # Executes this block if\n",
        "    # condition is false\n",
        "```\n",
        "\n"
      ]
    },
    {
      "cell_type": "code",
      "metadata": {
        "id": "CQNIlCkJcPol",
        "colab_type": "code",
        "colab": {}
      },
      "source": [
        "name = \"Mom\"\n",
        "count = 5\n",
        "\n",
        "if name == \"Abhishek\" and count < 20:\n",
        "  print(\"Invitation sent!!!!\")\n",
        "elif name == \"Parents\" or name == \"Mom\" or name == \"Dad\":\n",
        "  print(\"They are the organiser's!!!!\")\n",
        "else:\n",
        "  print(\"Invitation Not sent!!!!\")"
      ],
      "execution_count": 0,
      "outputs": []
    },
    {
      "cell_type": "code",
      "metadata": {
        "id": "0T3MrS-ectIC",
        "colab_type": "code",
        "colab": {}
      },
      "source": [
        ""
      ],
      "execution_count": 0,
      "outputs": []
    },
    {
      "cell_type": "markdown",
      "metadata": {
        "id": "YKYDZ09kdlBI",
        "colab_type": "text"
      },
      "source": [
        "**New Data Type**\n",
        "\n",
        "List - Collection of different variable \n",
        "\n",
        "Let's see how it works\n"
      ]
    },
    {
      "cell_type": "code",
      "metadata": {
        "id": "Ik6nKkAFeBoq",
        "colab_type": "code",
        "colab": {}
      },
      "source": [
        "#TO-DO  Creating a List \n",
        "a = []\n",
        "print(a)"
      ],
      "execution_count": 0,
      "outputs": []
    },
    {
      "cell_type": "code",
      "metadata": {
        "id": "XTShDkikeOIk",
        "colab_type": "code",
        "outputId": "90c76844-8885-4043-cbe7-84c838d7daa1",
        "colab": {
          "base_uri": "https://localhost:8080/",
          "height": 35
        }
      },
      "source": [
        "#TO-DO  Creating a List of numbers \n",
        "a = [10, 20, 30, 40]\n",
        "print(a) "
      ],
      "execution_count": 0,
      "outputs": [
        {
          "output_type": "stream",
          "text": [
            "[10, 20, 30, 40]\n"
          ],
          "name": "stdout"
        }
      ]
    },
    {
      "cell_type": "code",
      "metadata": {
        "id": "lJoeE7TgeXG-",
        "colab_type": "code",
        "colab": {}
      },
      "source": [
        "#TO-DO  Creating a List of strings and accessing using index \n",
        "b = [\"sagar\", \"manjot\", \"arohi\", \"kushi\"]\n",
        "print( b[0] , b[1], b[2], b[3])\n",
        "print( b[1] , b[0], b[2], b[3])\n",
        "print(b[-2])"
      ],
      "execution_count": 0,
      "outputs": []
    },
    {
      "cell_type": "code",
      "metadata": {
        "id": "Ez3hQzogeb99",
        "colab_type": "code",
        "colab": {}
      },
      "source": [
        "#TO-DO  Knowing the size of List\n",
        "b = [\"sagar\", \"manjot\", \"arohi\", \"kushi\", \"anonymous\"]\n",
        "print(len(b))"
      ],
      "execution_count": 0,
      "outputs": []
    },
    {
      "cell_type": "markdown",
      "metadata": {
        "id": "XURcFhrKc2Wu",
        "colab_type": "text"
      },
      "source": [
        "**Python - Loops**\n",
        "\n",
        "![image.png](https://www.tutorialspoint.com/python/images/loop_architecture.jpg)\n",
        "\n",
        "Following are loops type\n",
        "\n",
        "1. **while** loop\n",
        "2. **for** loop\n",
        "\n"
      ]
    },
    {
      "cell_type": "markdown",
      "metadata": {
        "id": "oOSQpmlXez-N",
        "colab_type": "text"
      },
      "source": [
        "\n",
        "**While Loop**\n",
        "\n",
        "```\n",
        "while expression:\n",
        "    statement(s)\n",
        "```"
      ]
    },
    {
      "cell_type": "code",
      "metadata": {
        "id": "yPyuRiApfEH_",
        "colab_type": "code",
        "colab": {}
      },
      "source": [
        "#TO-DO prints Hello Python 3 Times \n",
        "count = 0\n",
        "while count < 3:\n",
        "  print(\"Invite Sent!!!\")\n",
        "  count = count + 1\n",
        "  print(count)\n",
        "  print(count < 3)\n",
        "\n",
        "print(\"Done Sending!!\")"
      ],
      "execution_count": 0,
      "outputs": []
    },
    {
      "cell_type": "code",
      "metadata": {
        "id": "KM4tE-eEfD7D",
        "colab_type": "code",
        "colab": {}
      },
      "source": [
        ""
      ],
      "execution_count": 0,
      "outputs": []
    },
    {
      "cell_type": "markdown",
      "metadata": {
        "id": "zo-r-a_ue4N0",
        "colab_type": "text"
      },
      "source": [
        "**For Loop**\n",
        "\n",
        "```\n",
        "for a in List:\n",
        "    statements(s)\n",
        "```\n",
        "\n"
      ]
    },
    {
      "cell_type": "code",
      "metadata": {
        "id": "L8YlVqCffNiP",
        "colab_type": "code",
        "colab": {}
      },
      "source": [
        "#TO-DO Iterating over a list \n",
        "print(\"List Iteration\") \n",
        "l = [\"geeks\", \"for\", \"geeks\"] "
      ],
      "execution_count": 0,
      "outputs": []
    }
  ]
}